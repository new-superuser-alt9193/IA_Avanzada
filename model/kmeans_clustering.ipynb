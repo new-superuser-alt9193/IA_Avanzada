{
 "cells": [
  {
   "cell_type": "code",
   "execution_count": 10,
   "metadata": {},
   "outputs": [],
   "source": [
    "from sklearn.model_selection import train_test_split\n",
    "from sklearn.cluster import KMeans\n",
    "import pandas as pd"
   ]
  },
  {
   "cell_type": "code",
   "execution_count": 11,
   "metadata": {},
   "outputs": [],
   "source": [
    "df = pd.read_csv('../data/train_user_collapsed_small_data.csv')\n",
    "x = df.drop(columns=['customer_ID', 'target'])\n",
    "y = df['target']"
   ]
  },
  {
   "cell_type": "code",
   "execution_count": 21,
   "metadata": {},
   "outputs": [],
   "source": [
    "x_train, x_test, y_train, y_test = train_test_split(x,y, test_size= 0.1, random_state= 1)\n",
    "kmeans = KMeans(n_clusters=2, max_iter=300, random_state=0).fit(x,y)"
   ]
  },
  {
   "cell_type": "code",
   "execution_count": 22,
   "metadata": {},
   "outputs": [
    {
     "data": {
      "text/plain": [
       "array([1, 1, 1, ..., 0, 0, 0])"
      ]
     },
     "execution_count": 22,
     "metadata": {},
     "output_type": "execute_result"
    }
   ],
   "source": [
    "kmeans.labels_"
   ]
  },
  {
   "cell_type": "code",
   "execution_count": 23,
   "metadata": {},
   "outputs": [
    {
     "data": {
      "text/plain": [
       "array([0, 0, 1, ..., 1, 1, 1])"
      ]
     },
     "execution_count": 23,
     "metadata": {},
     "output_type": "execute_result"
    }
   ],
   "source": [
    "y_pred = kmeans.predict(x_test)\n",
    "y_pred"
   ]
  },
  {
   "cell_type": "code",
   "execution_count": 25,
   "metadata": {},
   "outputs": [
    {
     "data": {
      "text/plain": [
       "array([[ 2.56544500e+05,  7.83973861e+00,  2.06261186e+01,\n",
       "         1.24668121e-02,  3.60323998e-04, -1.25001568e-03,\n",
       "         4.22308469e-03, -6.56776720e-03,  3.19457256e-03,\n",
       "        -1.43155852e-02, -3.98260776e-03,  1.51752089e-02,\n",
       "        -3.26173574e-03, -1.76645617e-02,  7.09479856e-03,\n",
       "        -6.69532641e-03,  6.39882359e-03,  3.22273016e-03,\n",
       "        -5.70100720e-04, -2.86372381e-03,  1.31645160e-02],\n",
       "       [ 8.54635000e+04, -6.13194769e+00, -6.42431303e+00,\n",
       "        -4.21246084e-03, -2.29170701e-03,  9.17071623e-04,\n",
       "         2.68971611e-03, -3.85557142e-04,  9.56662198e-03,\n",
       "        -1.75097836e-02, -8.34443435e-03,  1.49619716e-02,\n",
       "        -2.62968515e-03, -1.81848917e-02,  1.05165645e-03,\n",
       "        -9.80276276e-03,  1.02823119e-02,  1.44159954e-03,\n",
       "         5.76991498e-04, -4.20163834e-03,  1.21947054e-02]])"
      ]
     },
     "execution_count": 25,
     "metadata": {},
     "output_type": "execute_result"
    }
   ],
   "source": [
    "kmeans.cluster_centers_"
   ]
  },
  {
   "cell_type": "code",
   "execution_count": 24,
   "metadata": {},
   "outputs": [
    {
     "data": {
      "text/plain": [
       "-85853062373866.84"
      ]
     },
     "execution_count": 24,
     "metadata": {},
     "output_type": "execute_result"
    }
   ],
   "source": [
    "kmeans.score(x_test)"
   ]
  }
 ],
 "metadata": {
  "kernelspec": {
   "display_name": "Python 3.8.10 64-bit (microsoft store)",
   "language": "python",
   "name": "python3"
  },
  "language_info": {
   "codemirror_mode": {
    "name": "ipython",
    "version": 3
   },
   "file_extension": ".py",
   "mimetype": "text/x-python",
   "name": "python",
   "nbconvert_exporter": "python",
   "pygments_lexer": "ipython3",
   "version": "3.8.10"
  },
  "orig_nbformat": 4,
  "vscode": {
   "interpreter": {
    "hash": "2895a9ff45eae723fdadc456c4bca17d77a71277f8efe34e6ebc3ca2a18e1d2d"
   }
  }
 },
 "nbformat": 4,
 "nbformat_minor": 2
}
