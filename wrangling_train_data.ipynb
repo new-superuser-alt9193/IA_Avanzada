{
 "cells": [
  {
   "cell_type": "code",
   "execution_count": 2,
   "metadata": {},
   "outputs": [],
   "source": [
    "import numpy as np\n",
    "import pandas as pd"
   ]
  },
  {
   "cell_type": "code",
   "execution_count": 3,
   "metadata": {},
   "outputs": [],
   "source": [
    "import dask.dataframe as dd\n",
    "import dask.array as da\n",
    "import dask.bag as db"
   ]
  },
  {
   "cell_type": "markdown",
   "metadata": {},
   "source": [
    "Se realizo una extraccion total de los datos del reto [\"American Express -Default Predition\"](https://www.kaggle.com/competitions/amex-default-prediction/overview), el cual tiene el fin de determinar si un cliente sera propenso a pagar su estado de cuenta o por el contrario caeera en un inclumplimiento de su pago. \n",
    "\n",
    "Para realizar el entrenamiento hace falta los datos de train_data.csv que contienen el comportamiento de los clientes segmentados en categorias, los cuales relizaran el rol de variables depedientes. A su vez sera necesario los datos en train_labels.csv que contienen los resultados del cumplimiento de los pagos de los clientes. \n",
    "\n",
    "Los datos no se encuentran disponibles en el repositorio por cuestion de su dimencion, por lo que para ejecutar el codigo es necesario bajar manualmente [\"train_data.csv\"](https://www.kaggle.com/competitions/amex-default-prediction/data?select=train_data.csv) y [\"train_labels.csv\"](https://www.kaggle.com/competitions/amex-default-prediction/data?select=train_labels.csv) en el directorio \"./data\"."
   ]
  },
  {
   "cell_type": "code",
   "execution_count": 7,
   "metadata": {},
   "outputs": [],
   "source": [
    "trainData = dd.read_csv('./data/train_data.csv', blocksize=50e6)\n",
    "trainLabels = dd.read_csv('./data/train_labels.csv', blocksize=50e6)"
   ]
  },
  {
   "cell_type": "markdown",
   "metadata": {},
   "source": [
    "# Tranformacion de los datos"
   ]
  }
 ],
 "metadata": {
  "kernelspec": {
   "display_name": "Python 3.10.6 64-bit",
   "language": "python",
   "name": "python3"
  },
  "language_info": {
   "codemirror_mode": {
    "name": "ipython",
    "version": 3
   },
   "file_extension": ".py",
   "mimetype": "text/x-python",
   "name": "python",
   "nbconvert_exporter": "python",
   "pygments_lexer": "ipython3",
   "version": "3.10.6"
  },
  "orig_nbformat": 4,
  "vscode": {
   "interpreter": {
    "hash": "916dbcbb3f70747c44a77c7bcd40155683ae19c65e1c03b4aa3499c5328201f1"
   }
  }
 },
 "nbformat": 4,
 "nbformat_minor": 2
}
